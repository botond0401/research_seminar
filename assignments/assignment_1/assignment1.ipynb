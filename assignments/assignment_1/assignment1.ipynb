{
 "cells": [
  {
   "cell_type": "markdown",
   "id": "c66ef10482025c71",
   "metadata": {},
   "source": [
    "# Assignment 1: Probability fundamentals\n",
    "\n",
    "<span style=\"font-size:18px;\">\n",
    "\n",
    "In the following exercises, we will review some basic probability concepts. We will be using Bayes' formula, the law of total probability, the law of conditional probability, and the definition of independence. Instead of introducing these concepts here, I want to refer you to the following great resource: \n",
    "\n",
    "- [Data analysis recipes: Probability calculus for inference by David Hogg](https://arxiv.org/abs/1205.4446) \n",
    "\n",
    "Please read the above paper and then answer the exercises posted in it. We will not tackle all of the exercises in Hogg (2012) but focus on a selection. The following questions should be answered always in the cells below the exercise questions.\n",
    "</span>"
   ]
  },
  {
   "cell_type": "markdown",
   "id": "5b4549ae3d192a0e",
   "metadata": {},
   "source": [
    "## Exercise 1 (4 points)\n",
    "<span style=\"font-size:18px;\">\n",
    "\n",
    "**Exercise 1.1**: You have conditional pdfs $p(a \\mid d), p(b \\mid a, d)$, and $p(c \\mid a, b, d)$. Write expressions for $p(a, b \\mid d)$, $p(b \\mid d)$, and $p(a \\mid c, d)$.  \n",
    "\n",
    "**Exercise 1.2**: You have conditional pdfs $p(a \\mid b, c)$ and $p(a \\mid c)$ expressed or computable for any values of $a$, $b$, and $c$. You are not permitted to multiply these together, of course. But can you use them to construct the conditional pdf $p(b \\mid a, c)$ or $p(b \\mid c)$? Did you have to make any assumptions?\n",
    "</span>"
   ]
  },
  {
   "cell_type": "markdown",
   "id": "734651671a7ba32a",
   "metadata": {},
   "source": [
    "### Answer to exercise 1\n",
    "**Exercise 1.1**:\n",
    "\n",
    "$p(a, b \\mid d) = p(a \\mid d) \\cdot p(b \\mid a, d)$\n",
    "\n",
    "$p(b \\mid d) = \\int p(a \\mid d) \\cdot p(b \\mid a, d)\\,\\mathrm{d}a$\n",
    "\n",
    "$p(a \\mid c, d) = \\frac{p(c \\mid a, d)p(a \\mid d)}{p(c \\mid d)} = \\frac{p(c \\mid a, d)p(a \\mid d)}{\\int p(c \\mid a, d) \\cdot p(a \\mid d)\\,\\mathrm{d} a} = \\frac{p(c \\mid a, d)p(a \\mid d)}{\\int \\int p(c \\mid a, b, d)\\cdot p(b \\mid a, d)\\,\\mathrm{d}b \\cdot p(a \\mid d)\\,\\mathrm{d} a} = \\frac{\\int p(c \\mid a, b, d)\\cdot p(b \\mid a, d)\\,\\mathrm{d} b \\cdot p(a \\mid d)}{\\int \\int p(c \\mid a, b, d)\\cdot p(b \\mid a, d)\\,\\mathrm{d}b \\cdot p(a \\mid d)\\,\\mathrm{d} a}$\n",
    "\n",
    "**Exercise 1.2**:\n",
    "\n",
    "We only have the equations $p(b | a, c) = \\frac{p(a | b, c)p(b |c)}{p(a | c)}$ and $p(b | c) = \\int p(b | a, c) \\cdot p(a | c) \\,\\mathrm{d} a$, hence we can only calculate the asked pdfs, if we can assume that we have one of the two.\n",
    "\n",
    "If we assume that $a$ and $b$ are independent given $c$, then the pdfs are equal: $p(b \\mid a, c) = p(b \\mid c)$.\n",
    "\n",
    "Otherwise we cannot infer them, because the pdfs in question have units in $\\frac{1}{b}$, and the pdfs we know have units in $\\frac{1}{a}$."
   ]
  },
  {
   "cell_type": "markdown",
   "id": "6359ef9e46238b66",
   "metadata": {},
   "source": [
    "## Exercise 2 (4 points)\n",
    "<span style=\"font-size:18px;\">\n",
    "\n",
    "**Exercise 2.1**: You have conditional pdfs $p(a \\mid c)$ and $p(b \\mid c)$ expressed or computable for any values of $a$, $b$, and $c$. Can you use them to construct the conditional pdf $p(a | b, c)$?\n",
    "\n",
    "**Exercise 2.2**: You have a function $g(b)$ that is a function only of $b$. You have conditional pdfs $p(a \\mid c)$ and $p(b \\mid a, c)$. What is the expectation value $\\mathbb{E}(g \\mid c)$ for $g$ conditional on $c$ but not conditional on $a$?\n",
    "</span>"
   ]
  },
  {
   "cell_type": "markdown",
   "id": "40d7b422239c16b1",
   "metadata": {},
   "source": [
    "### Answer to Exercise 2\n",
    "\n",
    "**Exercise 2.1**: If $a$ and $b$ are independent, then $p(a | b, c) = p(a | c)$. Otherwise if we also know $p(b | a, c)$, then $p(a | b, c) = \\frac{p(b | a, c)p(a |c)}{p(b | c)}$. If we do not know it, but know $p(a, b | c)$, then $p(a | b, c) = \\frac{p(a, b | c)}{p(b | c)}$. In any other cases we cannot construct $p(a | b, c)$.\n",
    "\n",
    "**Exercise 2.2**: $\\mathbb{E}(g \\mid c) = \\int g(b)\\cdot p(b | c)\\,\\mathrm{d}b = \\int g(b) \\cdot (\\int p(b | a, c)\\cdot p(a | c)\\,\\mathrm{d}a)\\,\\mathrm{d}b$"
   ]
  },
  {
   "cell_type": "markdown",
   "id": "d926cbc4ccff2963",
   "metadata": {},
   "source": [
    "## Exercise 3 (3 points)\n",
    "<span style=\"font-size:18px;\">\n",
    "\n",
    "Given the linear regression problem introduced in section 2 of Hoggs' paper, dicuss the following questions related to the likelihood function $\\mathcal{L}$:\n",
    "\n",
    "$$ \\mathcal{L} = \\prod_n \\mathcal{N}(y_n \\,|\\, a x_n + b, \\sigma_n) $$\n",
    "\n",
    "**Exercise 3**: Show that the likelihood for the model given in equations (28) through (34) in Hogg (2012) can be written in the form $Q\\,exp(−\\chi^2/2)$, where $\\chi^2$ is the standard statistic for weighted least-squares problems. On what does $Q$ depend, and what are its dimensions?\n",
    "</span>"
   ]
  },
  {
   "cell_type": "markdown",
   "id": "69df3e4d17eafa8b",
   "metadata": {},
   "source": [
    "### Answer to Exercise 3\n",
    "\n",
    "$$ \\mathcal{L} = \\prod_n \\mathcal{N}(D_n \\,|\\, a x_n + b, \\sigma_n^2) =\\prod_n \\frac{1}{\\sqrt{2\\pi \\sigma_n^2}}e^{-\\frac{D_n -(ax_n + b)}{2\\sigma_n^2}} =\\prod_n \\frac{1}{\\sqrt{2\\pi \\sigma_n^2}}e^{-\\frac{y_n + \\epsilon_n - ax_n - b}{2\\sigma_n^2}} =\\prod_n \\frac{1}{\\sqrt{2\\pi \\sigma_n^2}}e^{-\\frac{ax_n + b + \\epsilon_n - ax_n - b}{2\\sigma_n^2}}\\\\ \n",
    "= \\prod_n \\frac{1}{\\sqrt{2\\pi \\sigma_n^2}}e^{-\\frac{\\epsilon_n}{2\\sigma_n^2}} = \\frac{1}{\\sqrt{2\\pi}^n}\\frac{1}{\\prod_n\\sigma_n}e^{-\\frac{1}{2}\\sum_n\\frac{\\epsilon_n}{\\sigma_n^2}} = \\frac{1}{\\sqrt{2\\pi}^n}\\frac{1}{\\prod_n\\sigma_n}e^{-\\frac{\\chi^2}{2}}$$\n",
    "\n",
    "\n",
    "Hence\n",
    "\n",
    "$$\n",
    "Q = \\frac{1}{\\sqrt{2\\pi}^n}\\frac{1}{\\prod_n\\sigma_n}\n",
    "$$\n",
    "\n",
    "It depends on the parameters $\\sigma_n$ (standard deviations) and its dimensions are $1$ x $p$, where $p$ is the number of features in $x_n$."
   ]
  },
  {
   "cell_type": "markdown",
   "id": "4ff5b618a550c08e",
   "metadata": {},
   "source": [
    "## Exercise 4 (4 points)\n",
    "<span style=\"font-size:18px;\">\n",
    "\n",
    "**Exercise 4**: The likelihood in equation (32) in Hogg (2012) is a product of Gaussians in $D_n$. At fixed data and $b$, what shape will it have in the $a$ direction? That is, what functional form will it have when thought of as being a function of $a$? You will have to use the properties of Gaussians (and products of\n",
    "Gaussians). \n",
    "</span>"
   ]
  },
  {
   "cell_type": "markdown",
   "id": "5a6164d7361d8ec8",
   "metadata": {},
   "source": [
    "### Answer to Exercise 4\n",
    "\n",
    "$$\n",
    "p({D_n}_{n=1}^N \\mid \\theta, I) = \\prod_{n=1}^N{p(D_n \\mid \\theta,I)} = \\frac{1}{\\sqrt{2\\pi}^n}\\frac{1}{\\prod_n\\sigma_n}e^{-\\frac{\\chi^2}{2}}\n",
    "$$\n",
    "\n",
    "as seen above, hence it is a constant function of $a$, its shape is a straight horizontal line."
   ]
  },
  {
   "cell_type": "markdown",
   "id": "59fa154c039bc51e",
   "metadata": {},
   "source": [
    "## Exercise 5 (2 points)\n",
    "<span style=\"font-size:18px;\">\n",
    "\n",
    "**Exercise 4**: Show that if you take the model in equations (28) through (34) in Hogg (2012) and put a Gaussian prior pdf on $a$ and an *independent* Gaussian prior pdf on $b$ that your posterior pdf for $a$ and $b$ will be a two-dimensional Gaussian. Feel free to use informal or even hand-waving arguments; there are no\n",
    "mathematicians present.\n",
    "</span>"
   ]
  },
  {
   "cell_type": "markdown",
   "id": "eadea377f00dc766",
   "metadata": {},
   "source": [
    "### Answer to Exercise 5\n",
    "\n",
    "We know that $p(a) = \\mathcal{N}(a \\mid \\mu_a,\\sigma_a^2)$ and $p(b) = \\mathcal{N}(b \\mid \\mu_b,\\sigma_b^2)$. Because $a$ and $b$ are independent we also know that $p(a, b) = p(a)p(b)$. Using this, the equation 10 in Hogg (2012), and that $a$ and $b$ are independent from the data $\\mathbf{x}$ we have that\n",
    "$$\n",
    "p(a, b \\mid \\mathbf{x}, \\mathbf{D}) = \\frac{1}{Z}p(\\mathbf{D} \\mid a, b, \\mathbf{x})p(a, b \\mid \\mathbf{x}) = \\frac{1}{Z}p(\\mathbf{D} \\mid a, b, \\mathbf{x})p(a)p(b)\\\\\n",
    "=\\frac{1}{Z}\\prod_n\\mathcal{N}(D_n \\mid ax_n+b, \\sigma_n^2)\\mathcal{N}(a \\mid \\mu_a,\\sigma_a^2)\\mathcal{N}(b \\mid \\mu_b,\\sigma_b^2)\\\\\n",
    "=\\frac{1}{Z'}exp(-\\frac{a-\\mu_a}{2\\sigma_a^2})exp(-\\frac{b-\\mu_b}{2\\sigma_b^2})\n",
    "$$\n",
    "\n",
    "$Z'$ is equal to $2\\pi\\sigma_a\\sigma_b$ as this is the only way that our function is a pdf, which it must be.\n",
    "Hence the posterior pdf is a two-dimensional Gaussian with parameters $\n",
    "\\begin{pmatrix}\n",
    "\\mu_a \\\\\n",
    "\\mu_b \n",
    "\\end{pmatrix}\n",
    "$\n",
    "and $\n",
    "\\begin{pmatrix}\n",
    "\\sigma_a^2, 0 \\\\\n",
    "0, \\sigma_b^2 \n",
    "\\end{pmatrix}\n",
    "$.\n"
   ]
  },
  {
   "cell_type": "markdown",
   "id": "bccb9b6dd6675682",
   "metadata": {},
   "source": [
    "## Exercise 6 (2 point) \n",
    "\n",
    "<span style=\"font-size:18px;\">\n",
    "\n",
    "Bayesian inference often involves computing high-dimensional integrals. For example the posterior pdf is given by:\n",
    "\n",
    "$$ p(\\theta \\mid D, I) = \\frac{1}{Z} \\, p(D \\mid \\theta, I) \\, p(\\theta \\mid I) $$\n",
    "\n",
    "where\n",
    "$$ Z = \\int p(D \\mid \\theta, I) \\, p(\\theta \\mid I) \\, d\\theta $$\n",
    "\n",
    "In many cases, these integrals such as $Z$ are analytically intractable, and we have to resort to numerical methods. One of the most popular methods for this is Monte Carlo integration. Monte Carlo integration is an absolute crucial notion in modern statistics and machine learning. If you have to solve an integral that you can write down the integrand as a product of a function $f(x)$ and a pdf $p(x)$, where $\\int p(x) dx = 1$, you can use Monte Carlo integration to solve it. Provided that you can sample from $p(x)$ and evaluate $f(x)$ you can approximate the integral by\n",
    "\n",
    "$$ \\int f(x) p(x) dx \\approx \\frac{1}{N} \\sum_{i=1}^N f(x_i) $$\n",
    "\n",
    "where $x_i$ are samples drawn from $p(x)$.\n",
    "\n",
    "**Exercise 6**: Write a Python function that computes the integral of $f(x) = x^2$ over the interval $[1, 3]$ using Monte Carlo integration. Use $N = 1000$ samples to compute the integral. Compare your result with its true value.\n",
    "\n",
    "</span>"
   ]
  },
  {
   "cell_type": "code",
   "execution_count": 47,
   "id": "e4a0195b00f2b8d9",
   "metadata": {
    "ExecuteTime": {
     "end_time": "2024-10-04T17:46:26.563445Z",
     "start_time": "2024-10-04T17:46:26.560369Z"
    }
   },
   "outputs": [
    {
     "name": "stdout",
     "output_type": "stream",
     "text": [
      "The integral calculated by the Monte Carlo method is 8.526935483206897\n",
      "The true integral is 8.666666666666668\n"
     ]
    }
   ],
   "source": [
    "import numpy as np\n",
    "from scipy.integrate import quad\n",
    "\n",
    "def f(x: float) -> float:\n",
    "    \"\"\"Function to be integrated.\n",
    "\n",
    "    Args:\n",
    "        x (float): The input value.\n",
    "\n",
    "    Returns:\n",
    "        float: The value of f(x) = x^2.\n",
    "    \"\"\"\n",
    "    return x**2\n",
    "\n",
    "def p(a: float, b: float) -> float:\n",
    "    \"\"\"Generates a random sample from a uniform distribution between a and b.\n",
    "\n",
    "    Args:\n",
    "        a (float): The lower bound of the interval.\n",
    "        b (float): The upper bound of the interval.\n",
    "\n",
    "    Returns:\n",
    "        float: A random number uniformly sampled from [a, b].\n",
    "    \"\"\"\n",
    "    return np.random.uniform(a, b)\n",
    "\n",
    "def calculate_MC_integral(f, p, a: float, b: float, N: int) -> float:\n",
    "    \"\"\"Calculates the integral of a function using Monte Carlo integration.\n",
    "\n",
    "    Args:\n",
    "        f: The function to integrate.\n",
    "        p: The random sample generator function.\n",
    "        a (float): The lower limit of integration.\n",
    "        b (float): The upper limit of integration.\n",
    "        N (int): The number of random samples to use.\n",
    "\n",
    "    Returns:\n",
    "        float: The estimated value of the integral.\n",
    "    \"\"\"\n",
    "    integral = 0.0\n",
    "    for _ in range(N):\n",
    "        integral += f(p(a, b))  # Evaluate f at a random point in [a, b]\n",
    "    \n",
    "    integral *= (b - a) / N  # Scale by the width of the interval and number of samples\n",
    "    return integral\n",
    "\n",
    "# Set a random seed for reproducibility\n",
    "np.random.seed(42)\n",
    "\n",
    "# Define the integration limits and the number of samples\n",
    "a = 1\n",
    "b = 3\n",
    "N = 1000\n",
    "\n",
    "# Calculate the Monte Carlo integral\n",
    "MC_integral = calculate_MC_integral(f, p, a, b, N)\n",
    "\n",
    "# Calculate the true integral using scipy's quad function\n",
    "true_integral = list(quad(f, a, b))[0]\n",
    "\n",
    "# Print the results\n",
    "print(f\"The integral calculated by the Monte Carlo method is {MC_integral}\")\n",
    "print(f\"The true integral is {true_integral}\")\n",
    "\n"
   ]
  },
  {
   "cell_type": "markdown",
   "id": "86d860cb96197c3f",
   "metadata": {},
   "source": [
    "---"
   ]
  },
  {
   "cell_type": "markdown",
   "id": "8993ee9e8757bf27",
   "metadata": {},
   "source": [
    "# The Fisher information matrix\n",
    "\n",
    "<span style=\"font-size:18px;\">\n",
    "\n",
    "The Fisher information matrix is the expectation value of the variance of the log-likelihood function, which is often just the expectation of the Hessian of the log-likelihood function. To obtain it, you need to compute the second derivatives with respect to the model parameters. For a data set $D$ and model parameters $\\mathbf{\\theta}$, the Fisher information matrix is defined as:\n",
    "$$\\mathcal{F}_{jk} = -\\mathbb{E}\\left[\\frac{\\partial^2}{\\partial\\theta_j \\, \\partial\\theta_k}\\ln\\mathcal{L}(D \\,|\\, \\theta)\\right]$$\n",
    "\n",
    "In this case, our model for the data is one dimensional and linear:\n",
    "\n",
    "$$f(x \\,;\\, \\theta) = a \\, x + b \\hspace{15pt} \\text{with}\\hspace{7pt} \\theta = (a, b) $$\n",
    "\n",
    "and we will assume that the data are generated from some process such that the uncertainties $\\sigma_y$ are Gaussian (I'll drop the subscript $y$). Our likelihood function $L$ for a single data point $(x_i, y_i, \\sigma_i)$ is then\n",
    "\n",
    "$$ L(y_i \\,;\\, \\theta) = \\mathcal{N}(y_i \\,|\\, f(x \\,;\\, \\theta), \\sigma_i) $$\n",
    "\n",
    "In this model, the data points are independent, so the total likelihood $\\mathcal{L}$ is just the product of the likelihoods for each individual data point:\n",
    "\n",
    "$$ \\begin{align}\n",
    "\\mathcal{L} &= \\prod_i L(y_i \\,;\\, \\theta)\\\\ \n",
    "&= \\prod_i \\mathcal{N}(y_i \\,|\\, f_i, \\sigma_i)\n",
    "\\end{align} $$\n",
    "\n",
    "where $f_i = f(x_i \\,;\\, \\theta)$.\n",
    "\n",
    "The Fisher information matrix is then the expectation value of the Hessian of the log-likelihood function. The log-likelihood function is, given Normally distributed errors:\n",
    "\n",
    "$$ \\ln\\mathcal{L} = -\\frac{1}{2} \\sum_i \\left[ \\frac{(y_i - f_i)^2}{\\sigma_i^2} + \\ln(2\\pi\\sigma_i^2) \\right] $$\n",
    "\n",
    "Thus, we need to take second derivatives of the above expression. Although in this simple case we can do this analytically, for more complex models this expression can get increasingly difficult to write down. Thankfully, we can use automatic differentiation to do this!\n",
    "</span>"
   ]
  },
  {
   "cell_type": "markdown",
   "id": "21408220617deb10",
   "metadata": {},
   "source": [
    "## Create data and set up a model for linear regression"
   ]
  },
  {
   "cell_type": "code",
   "execution_count": 6,
   "id": "87fa2eaf96357b6",
   "metadata": {
    "ExecuteTime": {
     "end_time": "2024-10-04T17:46:31.625358Z",
     "start_time": "2024-10-04T17:46:30.818085Z"
    }
   },
   "outputs": [],
   "source": [
    "# Make sure you have the following packages installed\n",
    "import matplotlib.pyplot as plt\n",
    "import numpy as np\n",
    "import jax\n",
    "import jax.numpy as jnp\n",
    "import blackjax"
   ]
  },
  {
   "cell_type": "code",
   "execution_count": 7,
   "id": "db6e6d9db3f5e012",
   "metadata": {
    "ExecuteTime": {
     "end_time": "2024-10-04T17:46:32.658882Z",
     "start_time": "2024-10-04T17:46:32.654610Z"
    }
   },
   "outputs": [],
   "source": [
    "# Data parameters\n",
    "ndata = 10\n",
    "rng = np.random.default_rng(45)\n",
    "true_pars = rng.normal(0, 3.0, size=2)\n",
    "pars = {\"a\": true_pars[0], \"b\": true_pars[1]}\n",
    "# Generate some data\n",
    "x = np.sort(rng.uniform(0, 10, ndata))\n",
    "yerr = 10 ** rng.uniform(-1, 0, ndata)\n",
    "y = rng.normal(pars[\"a\"] * x + pars[\"b\"], yerr)\n",
    "# Create data dictionary\n",
    "data = {\"x\": x, \"y\": y, \"yerr\": yerr}"
   ]
  },
  {
   "cell_type": "code",
   "execution_count": 8,
   "id": "b87c98edf1624f8",
   "metadata": {
    "ExecuteTime": {
     "end_time": "2024-10-04T17:46:33.692770Z",
     "start_time": "2024-10-04T17:46:33.620626Z"
    }
   },
   "outputs": [
    {
     "data": {
      "text/plain": [
       "[Text(0.5, 0, 'x'), Text(0, 0.5, 'y')]"
      ]
     },
     "execution_count": 8,
     "metadata": {},
     "output_type": "execute_result"
    },
    {
     "data": {
      "image/png": "[encoded data removed]",
      "text/plain": [
       "<Figure size 640x480 with 1 Axes>"
      ]
     },
     "metadata": {},
     "output_type": "display_data"
    }
   ],
   "source": [
    "fig, ax = plt.subplots()\n",
    "ax.errorbar(x, y, yerr, marker=\"o\", ls=\"none\")\n",
    "ax.set(xlabel=\"x\", ylabel=\"y\")"
   ]
  },
  {
   "cell_type": "markdown",
   "id": "5a35eb9d31336ea7",
   "metadata": {},
   "source": [
    "## Exercise 7.1 (2 points)\n",
    "<span style=\"font-size:18px;\">\n",
    "\n",
    "**Exercise 7.1**: Implement the likelihood function for the linear regression model described above. The likelihood function should take a dictionary of parameters `pars` and a dictionary of data `data` as arguments and return the log-likelihood of the data given the parameters. The log-likelihood should be calculated using the Gaussian likelihood function. \n",
    "\n",
    "*Hint: The jax library has a useful `jax.scipy.stats.norm.logpdf` function that you can use to calculate the log-likelihood of a single data point.*\n",
    "\n",
    "</span>"
   ]
  },
  {
   "cell_type": "code",
   "execution_count": 10,
   "id": "e13074964981b630",
   "metadata": {
    "ExecuteTime": {
     "end_time": "2024-10-04T17:28:45.873216Z",
     "start_time": "2024-10-04T17:28:45.869569Z"
    }
   },
   "outputs": [],
   "source": [
    "# Single point likelihood\n",
    "@jax.jit\n",
    "def ln_likelihood_one_point(pars, data):\n",
    "    # pars is a dictionary with keys \"a\" and \"b\"\n",
    "    # data is a dictionary with keys \"x\", \"y\", and \"yerr\"\n",
    "    y = data[\"y\"]\n",
    "    x = pars[\"a\"] * data[\"x\"] + pars[\"b\"]\n",
    "    yerr = data[\"yerr\"]\n",
    "    ln_single_pt = jax.scipy.stats.norm.logpdf(y, x, yerr)\n",
    "    return ln_single_pt\n",
    "\n",
    "# Vectorized likelihood\n",
    "ln_likelihood_helper = jax.vmap(\n",
    "    ln_likelihood_one_point, in_axes=(None, {\"x\": 0, \"y\": 0, \"yerr\": 0})\n",
    ")\n",
    "\n",
    "# Full likelihood\n",
    "@jax.jit\n",
    "def ln_likelihood(pars, data):\n",
    "    return jnp.sum(ln_likelihood_helper(pars, data))"
   ]
  },
  {
   "cell_type": "markdown",
   "id": "6c7eeef75e016166",
   "metadata": {},
   "source": [
    "## Fisher matrix via auto-diff\n",
    "\n",
    "<span style=\"font-size:18px;\">\n",
    "\n",
    "Having defined the likelihood function, we can now compute the Fisher matrix using automatic differentiation. The Fisher matrix is the expectation value of the Hessian of the log-likelihood function. We can compute the Hessian of the log-likelihood function using the `jax.hessian` function. The Fisher matrix is then the negative of the Hessian of the log-likelihood function.\n",
    "\n",
    "</span>"
   ]
  },
  {
   "cell_type": "code",
   "execution_count": 11,
   "id": "4cc8bc032f29f357",
   "metadata": {
    "ExecuteTime": {
     "end_time": "2024-10-04T17:28:49.032390Z",
     "start_time": "2024-10-04T17:28:48.967253Z"
    }
   },
   "outputs": [],
   "source": [
    "F = jax.hessian(ln_likelihood)(pars, data) \n",
    "F = -np.array([list(f.values()) for f in F.values()])\n",
    "# Invert the Fisher matrix\n",
    "Finv = np.linalg.inv(F)"
   ]
  },
  {
   "cell_type": "markdown",
   "id": "ef835bc349d4c778",
   "metadata": {},
   "source": [
    "## Exercise 7.2 (1 point)\n",
    "\n",
    "<span style=\"font-size:18px;\">\n",
    "\n",
    "**Exercise 7.2**: Interpret the values of the Fisher matrix below. What do the diagonal elements represent? What do the off-diagonal elements represent?\n",
    "</span>"
   ]
  },
  {
   "cell_type": "code",
   "execution_count": 12,
   "id": "494e23ffb46f11d",
   "metadata": {
    "ExecuteTime": {
     "end_time": "2024-10-04T17:46:58.846512Z",
     "start_time": "2024-10-04T17:46:58.844806Z"
    }
   },
   "outputs": [
    {
     "name": "stdout",
     "output_type": "stream",
     "text": [
      "[[ 0.00566134 -0.04444363]\n",
      " [-0.04444363  0.35288954]]\n"
     ]
    }
   ],
   "source": [
    "print(Finv)"
   ]
  },
  {
   "cell_type": "markdown",
   "id": "553b69212564e771",
   "metadata": {},
   "source": [
    "## Answer to Exercise 7.2\n",
    "- The diagonal elements represent how much information the data provides about the individual parameters. As the entry for parameter $a$ is way less than the one for parameter $b$ (0.006 <<< 0.353), we can say that there is much more information about $b$ in the data. For $a$ we basically have no information, as the corresponding value is almost 0.\n",
    "- The off-diagonal elements represenet the same thing: the correlation between the two parameters, in our case it is fairly close to 0 (-0.04), hence we can say that the parameters $a$ and $b$ are independent, as expected."
   ]
  },
  {
   "cell_type": "markdown",
   "id": "8d8457047bd4dd14",
   "metadata": {},
   "source": [
    "# Exercise 8 (2 points)\n",
    "\n",
    "<span style=\"font-size:18px;\">\n",
    "\n",
    "**Exercise 8**: Define and finish the log prior and log posterior functions below to allow the application of MCMC sampling. MCMC samples the posterior distribution of the parameters $a$ and $b$ given the data and the likelihood function. The sampler should take the following arguments: the log posterior function, the initial parameters, the data dictionary, and the number of samples to generate. \n",
    "\n",
    "</span>"
   ]
  },
  {
   "cell_type": "code",
   "execution_count": 16,
   "id": "c8381af941401f02",
   "metadata": {
    "ExecuteTime": {
     "end_time": "2024-10-04T17:00:40.110900Z",
     "start_time": "2024-10-04T17:00:40.106914Z"
    }
   },
   "outputs": [],
   "source": [
    "@jax.jit\n",
    "def ln_prior(pars):\n",
    "    mean = 0.0\n",
    "    sigma = 10.0\n",
    "    # The parameters are in the dictionary \"pars\" and both have Gaussian priors with mean=0 and stddev=10\n",
    "    # Make sure to return the log prior value (lp)\n",
    "    lp = 0.0\n",
    "    # Gaussian prior on the amplitudes with mean=0, stddev=10:\n",
    "    lp += jax.scipy.stats.norm.logpdf(pars[\"a\"], loc=mean, scale=sigma)\n",
    "    # Gaussian prior on the intercepts with mean=0, stddev=10:\n",
    "    lp += jax.scipy.stats.norm.logpdf(pars[\"b\"], loc=mean, scale=sigma)\n",
    "    return lp\n",
    "\n",
    "\n",
    "@jax.jit\n",
    "def ln_posterior(pars, data):\n",
    "    return ln_likelihood(pars, data) + ln_prior(pars)"
   ]
  },
  {
   "cell_type": "markdown",
   "id": "c43e9014fdd3b63",
   "metadata": {},
   "source": [
    "## Sample the posterior using MCMC\n",
    "\n",
    "<span style=\"font-size:18px;\">\n",
    "\n",
    "We will now sample the posterior using MCMC. We will use the NUTS sampler from the `blackjax` library. We will first run a warm-up phase to adapt the step size and the number of leapfrog steps. Then we will run the sampler to generate samples from the posterior distribution. \n",
    "\n",
    "</span>"
   ]
  },
  {
   "cell_type": "code",
   "execution_count": 17,
   "id": "fa45f616f53a6c8c",
   "metadata": {
    "ExecuteTime": {
     "end_time": "2024-10-04T17:02:00.840316Z",
     "start_time": "2024-10-04T17:02:00.185662Z"
    }
   },
   "outputs": [],
   "source": [
    "# Set up the MCMC sampler\n",
    "rng_key, warmup_key, sample_key = jax.random.split(jax.random.PRNGKey(42), 3)\n",
    "init_pars = pars\n",
    "func_post = lambda theta: ln_posterior(theta, data)\n",
    "\n",
    "# Run the warmup phase\n",
    "warmup = blackjax.window_adaptation(blackjax.nuts, func_post)\n",
    "(state, parameters), _ = warmup.run(warmup_key, init_pars, num_steps=1000)"
   ]
  },
  {
   "cell_type": "code",
   "execution_count": 18,
   "id": "630f1f0ef0461efb",
   "metadata": {
    "ExecuteTime": {
     "end_time": "2024-10-04T17:39:18.071971Z",
     "start_time": "2024-10-04T17:39:18.068306Z"
    }
   },
   "outputs": [],
   "source": [
    "# Define the inference loop\n",
    "def inference_loop(rng_key, kernel, initial_state, num_samples):\n",
    "    @jax.jit\n",
    "    def one_step(state, rng_key):\n",
    "        state, _ = kernel(rng_key, state)\n",
    "        return state, state\n",
    "\n",
    "    keys = jax.random.split(rng_key, num_samples)\n",
    "    _, states = jax.lax.scan(one_step, initial_state, keys)\n",
    "\n",
    "    return states"
   ]
  },
  {
   "cell_type": "code",
   "execution_count": 19,
   "id": "593359abf12cc081",
   "metadata": {
    "ExecuteTime": {
     "end_time": "2024-10-04T17:43:03.123212Z",
     "start_time": "2024-10-04T17:43:02.581697Z"
    }
   },
   "outputs": [],
   "source": [
    "# Run the MCMC sampler\n",
    "kernel = blackjax.nuts(func_post, **parameters).step\n",
    "# The initial state is the final state of the warmup phase\n",
    "states = inference_loop(sample_key, kernel, state, 10_000)\n",
    "# Extract the samples\n",
    "mcmc_samples = {k: samples for k, samples in states.position.items()}\n",
    "# Calculate the covariance matrix via the samples\n",
    "Cov = np.cov(np.stack(list(mcmc_samples.values())))"
   ]
  },
  {
   "cell_type": "code",
   "execution_count": 20,
   "id": "e6bf03762e616bd9",
   "metadata": {
    "ExecuteTime": {
     "end_time": "2024-10-04T17:43:05.203149Z",
     "start_time": "2024-10-04T17:43:04.966251Z"
    }
   },
   "outputs": [
    {
     "data": {
      "image/png": "[encoded data removed]",
      "text/plain": [
       "<Figure size 1000x1000 with 4 Axes>"
      ]
     },
     "metadata": {},
     "output_type": "display_data"
    }
   ],
   "source": [
    "# Plot the results\n",
    "fig, ax = plt.subplots(2, 2, figsize=(10, 10))\n",
    "\n",
    "for i, key in enumerate(mcmc_samples.keys()):\n",
    "    ax[i % 2, i].hist(mcmc_samples[key], bins=30, histtype=\"step\", color=\"k\", lw=2)\n",
    "    ax[i % 2, i].set_xlabel(key)\n",
    "    ax[i % 2, i].axvline(true_pars[i], color=\"r\", ls=\"--\")\n",
    "    \n",
    "\n",
    "# Turn 0, 1 off\n",
    "ax[0, 1].axis(\"off\")\n",
    "\n",
    "ax[1, 0].scatter(mcmc_samples[\"a\"], mcmc_samples[\"b\"], s=1, color=\"k\", alpha=0.1)\n",
    "ax[1, 0].set(xlabel=\"a\", ylabel=\"b\")\n",
    "ax[1, 0].axvline(true_pars[0], color=\"r\", ls=\"--\")\n",
    "ax[1, 0].axhline(true_pars[1], color=\"r\", ls=\"--\")\n",
    "\n",
    "plt.tight_layout()"
   ]
  },
  {
   "cell_type": "markdown",
   "id": "711e523a65c6c11d",
   "metadata": {},
   "source": [
    "## Exercise 9 (4 point)\n",
    "\n",
    "<span style=\"font-size:18px;\">\n",
    "\n",
    "**Exercise 9.1**: Interpret the results of the MCMC sampling. Compare the MCMC samples with the true parameters. Are the MCMC samples consistent with the true parameters? \n",
    "\n",
    "**Exercise 9.2**: Compare the covariance matrix of the MCMC samples with the Fisher matrix. What do they both mean and are they consistent with each other?\n",
    "\n",
    "**Exercise 9.3**: What are the advantages and disadvantages of using MCMC sampling compared to the Fisher matrix?\n",
    "\n",
    "</span>"
   ]
  },
  {
   "cell_type": "code",
   "execution_count": 21,
   "id": "a32561989612381d",
   "metadata": {
    "ExecuteTime": {
     "end_time": "2024-10-04T17:47:29.461753Z",
     "start_time": "2024-10-04T17:47:29.459738Z"
    }
   },
   "outputs": [
    {
     "name": "stdout",
     "output_type": "stream",
     "text": [
      "MCMC covariance matrix:\n",
      "[[ 0.00567569 -0.04449755]\n",
      " [-0.04449755  0.35291177]]\n",
      "==============================\n",
      "Fisher matrix:\n",
      "[[ 0.00566134 -0.04444363]\n",
      " [-0.04444363  0.35288954]]\n"
     ]
    }
   ],
   "source": [
    "print(f'MCMC covariance matrix:\\n{Cov}')\n",
    "print(f'{30*\"=\"}')\n",
    "print(f'Fisher matrix:\\n{Finv}')"
   ]
  },
  {
   "cell_type": "markdown",
   "id": "108cc6e0182a3ba4",
   "metadata": {},
   "source": [
    "# Answer to Exercise 9\n",
    "**Exercise 9.1**: The results of the MCMC sampling show normal distributions for both of our parameters, where the mean of the distribution is rather close to the true parameters. It is also worth noting that parameter $a$ is less than the corresponding sample mean, while parameter $b$ is above it. This is because of the way the data is created, if $a$ decreases $b$ has to increase as we can also see on the scatterplot.\n",
    "\n",
    "**Exercise 9.2**: As already discussed the Fisher matrix tells us how much information lies in the data about the parameters and what is their covariance. The MCMC covariance matrix shows empricial covariance, and it is essentially the same what is in the Fisher matrix. It also shows the variances of the individual parameter samples. These values are also consistent with the corresponding values from the Fisher matrix, as our posterior distribution is Gaussian.\n",
    "\n",
    "**Exercise 9.3**: The advantages are that it does not require a Gaussian posterior and we can add priors, and the disadvantages are that it is computationally more expensive and harder to implement."
   ]
  }
 ],
 "metadata": {
  "kernelspec": {
   "display_name": "research_seminar",
   "language": "python",
   "name": "python3"
  },
  "language_info": {
   "codemirror_mode": {
    "name": "ipython",
    "version": 3
   },
   "file_extension": ".py",
   "mimetype": "text/x-python",
   "name": "python",
   "nbconvert_exporter": "python",
   "pygments_lexer": "ipython3",
   "version": "3.11.2"
  }
 },
 "nbformat": 4,
 "nbformat_minor": 5
}
